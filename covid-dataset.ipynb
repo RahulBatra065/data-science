{
 "cells": [
  {
   "cell_type": "markdown",
   "metadata": {},
   "source": [
    "# COVID DATASET VISUALISATION"
   ]
  },
  {
   "cell_type": "markdown",
   "metadata": {},
   "source": [
    "Powered by a bored nerd :)\n",
    "Importing Basic Libraries to make the magic happen "
   ]
  },
  {
   "cell_type": "code",
   "execution_count": 2,
   "metadata": {},
   "outputs": [],
   "source": [
    "import numpy as np\n",
    "import pandas as pd\n",
    "from matplotlib import pyplot as plt"
   ]
  },
  {
   "cell_type": "markdown",
   "metadata": {},
   "source": [
    "Read CSV given by WHO and CDC and set index "
   ]
  },
  {
   "cell_type": "code",
   "execution_count": 3,
   "metadata": {},
   "outputs": [
    {
     "data": {
      "text/html": [
       "<div>\n",
       "<style scoped>\n",
       "    .dataframe tbody tr th:only-of-type {\n",
       "        vertical-align: middle;\n",
       "    }\n",
       "\n",
       "    .dataframe tbody tr th {\n",
       "        vertical-align: top;\n",
       "    }\n",
       "\n",
       "    .dataframe thead th {\n",
       "        text-align: right;\n",
       "    }\n",
       "</style>\n",
       "<table border=\"1\" class=\"dataframe\">\n",
       "  <thead>\n",
       "    <tr style=\"text-align: right;\">\n",
       "      <th></th>\n",
       "      <th>code3</th>\n",
       "      <th>FIPS</th>\n",
       "      <th>Lat</th>\n",
       "      <th>Long_</th>\n",
       "      <th>Population</th>\n",
       "      <th>1/22/20</th>\n",
       "      <th>1/23/20</th>\n",
       "      <th>1/24/20</th>\n",
       "      <th>1/25/20</th>\n",
       "      <th>1/26/20</th>\n",
       "      <th>...</th>\n",
       "      <th>3/23/20</th>\n",
       "      <th>3/24/20</th>\n",
       "      <th>3/25/20</th>\n",
       "      <th>3/26/20</th>\n",
       "      <th>3/27/20</th>\n",
       "      <th>3/28/20</th>\n",
       "      <th>3/29/20</th>\n",
       "      <th>3/30/20</th>\n",
       "      <th>3/31/20</th>\n",
       "      <th>4/1/20</th>\n",
       "    </tr>\n",
       "  </thead>\n",
       "  <tbody>\n",
       "    <tr>\n",
       "      <th>count</th>\n",
       "      <td>3253.000000</td>\n",
       "      <td>3251.000000</td>\n",
       "      <td>3253.000000</td>\n",
       "      <td>3253.000000</td>\n",
       "      <td>3.253000e+03</td>\n",
       "      <td>3253.0</td>\n",
       "      <td>3253.0</td>\n",
       "      <td>3253.0</td>\n",
       "      <td>3253.0</td>\n",
       "      <td>3253.0</td>\n",
       "      <td>...</td>\n",
       "      <td>3253.00000</td>\n",
       "      <td>3253.00000</td>\n",
       "      <td>3253.000000</td>\n",
       "      <td>3253.000000</td>\n",
       "      <td>3253.000000</td>\n",
       "      <td>3253.000000</td>\n",
       "      <td>3253.000000</td>\n",
       "      <td>3253.000000</td>\n",
       "      <td>3253.000000</td>\n",
       "      <td>3253.000000</td>\n",
       "    </tr>\n",
       "    <tr>\n",
       "      <th>mean</th>\n",
       "      <td>839.444205</td>\n",
       "      <td>32090.929560</td>\n",
       "      <td>37.183790</td>\n",
       "      <td>-89.174224</td>\n",
       "      <td>1.033565e+05</td>\n",
       "      <td>0.0</td>\n",
       "      <td>0.0</td>\n",
       "      <td>0.0</td>\n",
       "      <td>0.0</td>\n",
       "      <td>0.0</td>\n",
       "      <td>...</td>\n",
       "      <td>0.16969</td>\n",
       "      <td>0.21703</td>\n",
       "      <td>0.289579</td>\n",
       "      <td>0.371657</td>\n",
       "      <td>0.486013</td>\n",
       "      <td>0.622810</td>\n",
       "      <td>0.758377</td>\n",
       "      <td>0.915463</td>\n",
       "      <td>1.190593</td>\n",
       "      <td>1.462342</td>\n",
       "    </tr>\n",
       "    <tr>\n",
       "      <th>std</th>\n",
       "      <td>18.091158</td>\n",
       "      <td>17825.153176</td>\n",
       "      <td>8.623023</td>\n",
       "      <td>21.438640</td>\n",
       "      <td>3.457312e+05</td>\n",
       "      <td>0.0</td>\n",
       "      <td>0.0</td>\n",
       "      <td>0.0</td>\n",
       "      <td>0.0</td>\n",
       "      <td>0.0</td>\n",
       "      <td>...</td>\n",
       "      <td>2.49959</td>\n",
       "      <td>3.02708</td>\n",
       "      <td>4.211769</td>\n",
       "      <td>5.664505</td>\n",
       "      <td>7.288186</td>\n",
       "      <td>9.932834</td>\n",
       "      <td>12.761340</td>\n",
       "      <td>15.416319</td>\n",
       "      <td>19.397536</td>\n",
       "      <td>23.117943</td>\n",
       "    </tr>\n",
       "    <tr>\n",
       "      <th>min</th>\n",
       "      <td>16.000000</td>\n",
       "      <td>60.000000</td>\n",
       "      <td>-14.271000</td>\n",
       "      <td>-170.132000</td>\n",
       "      <td>0.000000e+00</td>\n",
       "      <td>0.0</td>\n",
       "      <td>0.0</td>\n",
       "      <td>0.0</td>\n",
       "      <td>0.0</td>\n",
       "      <td>0.0</td>\n",
       "      <td>...</td>\n",
       "      <td>0.00000</td>\n",
       "      <td>0.00000</td>\n",
       "      <td>0.000000</td>\n",
       "      <td>0.000000</td>\n",
       "      <td>0.000000</td>\n",
       "      <td>0.000000</td>\n",
       "      <td>0.000000</td>\n",
       "      <td>0.000000</td>\n",
       "      <td>0.000000</td>\n",
       "      <td>0.000000</td>\n",
       "    </tr>\n",
       "    <tr>\n",
       "      <th>25%</th>\n",
       "      <td>840.000000</td>\n",
       "      <td>19038.000000</td>\n",
       "      <td>34.237321</td>\n",
       "      <td>-98.037489</td>\n",
       "      <td>9.832000e+03</td>\n",
       "      <td>0.0</td>\n",
       "      <td>0.0</td>\n",
       "      <td>0.0</td>\n",
       "      <td>0.0</td>\n",
       "      <td>0.0</td>\n",
       "      <td>...</td>\n",
       "      <td>0.00000</td>\n",
       "      <td>0.00000</td>\n",
       "      <td>0.000000</td>\n",
       "      <td>0.000000</td>\n",
       "      <td>0.000000</td>\n",
       "      <td>0.000000</td>\n",
       "      <td>0.000000</td>\n",
       "      <td>0.000000</td>\n",
       "      <td>0.000000</td>\n",
       "      <td>0.000000</td>\n",
       "    </tr>\n",
       "    <tr>\n",
       "      <th>50%</th>\n",
       "      <td>840.000000</td>\n",
       "      <td>30045.000000</td>\n",
       "      <td>38.147359</td>\n",
       "      <td>-89.825123</td>\n",
       "      <td>2.465800e+04</td>\n",
       "      <td>0.0</td>\n",
       "      <td>0.0</td>\n",
       "      <td>0.0</td>\n",
       "      <td>0.0</td>\n",
       "      <td>0.0</td>\n",
       "      <td>...</td>\n",
       "      <td>0.00000</td>\n",
       "      <td>0.00000</td>\n",
       "      <td>0.000000</td>\n",
       "      <td>0.000000</td>\n",
       "      <td>0.000000</td>\n",
       "      <td>0.000000</td>\n",
       "      <td>0.000000</td>\n",
       "      <td>0.000000</td>\n",
       "      <td>0.000000</td>\n",
       "      <td>0.000000</td>\n",
       "    </tr>\n",
       "    <tr>\n",
       "      <th>75%</th>\n",
       "      <td>840.000000</td>\n",
       "      <td>47010.000000</td>\n",
       "      <td>41.684463</td>\n",
       "      <td>-82.793570</td>\n",
       "      <td>6.655100e+04</td>\n",
       "      <td>0.0</td>\n",
       "      <td>0.0</td>\n",
       "      <td>0.0</td>\n",
       "      <td>0.0</td>\n",
       "      <td>0.0</td>\n",
       "      <td>...</td>\n",
       "      <td>0.00000</td>\n",
       "      <td>0.00000</td>\n",
       "      <td>0.000000</td>\n",
       "      <td>0.000000</td>\n",
       "      <td>0.000000</td>\n",
       "      <td>0.000000</td>\n",
       "      <td>0.000000</td>\n",
       "      <td>0.000000</td>\n",
       "      <td>0.000000</td>\n",
       "      <td>0.000000</td>\n",
       "    </tr>\n",
       "    <tr>\n",
       "      <th>max</th>\n",
       "      <td>850.000000</td>\n",
       "      <td>99999.000000</td>\n",
       "      <td>69.314792</td>\n",
       "      <td>145.673900</td>\n",
       "      <td>1.003911e+07</td>\n",
       "      <td>0.0</td>\n",
       "      <td>0.0</td>\n",
       "      <td>0.0</td>\n",
       "      <td>0.0</td>\n",
       "      <td>0.0</td>\n",
       "      <td>...</td>\n",
       "      <td>99.00000</td>\n",
       "      <td>131.00000</td>\n",
       "      <td>199.000000</td>\n",
       "      <td>281.000000</td>\n",
       "      <td>366.000000</td>\n",
       "      <td>517.000000</td>\n",
       "      <td>678.000000</td>\n",
       "      <td>790.000000</td>\n",
       "      <td>932.000000</td>\n",
       "      <td>1139.000000</td>\n",
       "    </tr>\n",
       "  </tbody>\n",
       "</table>\n",
       "<p>8 rows × 76 columns</p>\n",
       "</div>"
      ],
      "text/plain": [
       "             code3          FIPS          Lat        Long_    Population  \\\n",
       "count  3253.000000   3251.000000  3253.000000  3253.000000  3.253000e+03   \n",
       "mean    839.444205  32090.929560    37.183790   -89.174224  1.033565e+05   \n",
       "std      18.091158  17825.153176     8.623023    21.438640  3.457312e+05   \n",
       "min      16.000000     60.000000   -14.271000  -170.132000  0.000000e+00   \n",
       "25%     840.000000  19038.000000    34.237321   -98.037489  9.832000e+03   \n",
       "50%     840.000000  30045.000000    38.147359   -89.825123  2.465800e+04   \n",
       "75%     840.000000  47010.000000    41.684463   -82.793570  6.655100e+04   \n",
       "max     850.000000  99999.000000    69.314792   145.673900  1.003911e+07   \n",
       "\n",
       "       1/22/20  1/23/20  1/24/20  1/25/20  1/26/20  ...     3/23/20  \\\n",
       "count   3253.0   3253.0   3253.0   3253.0   3253.0  ...  3253.00000   \n",
       "mean       0.0      0.0      0.0      0.0      0.0  ...     0.16969   \n",
       "std        0.0      0.0      0.0      0.0      0.0  ...     2.49959   \n",
       "min        0.0      0.0      0.0      0.0      0.0  ...     0.00000   \n",
       "25%        0.0      0.0      0.0      0.0      0.0  ...     0.00000   \n",
       "50%        0.0      0.0      0.0      0.0      0.0  ...     0.00000   \n",
       "75%        0.0      0.0      0.0      0.0      0.0  ...     0.00000   \n",
       "max        0.0      0.0      0.0      0.0      0.0  ...    99.00000   \n",
       "\n",
       "          3/24/20      3/25/20      3/26/20      3/27/20      3/28/20  \\\n",
       "count  3253.00000  3253.000000  3253.000000  3253.000000  3253.000000   \n",
       "mean      0.21703     0.289579     0.371657     0.486013     0.622810   \n",
       "std       3.02708     4.211769     5.664505     7.288186     9.932834   \n",
       "min       0.00000     0.000000     0.000000     0.000000     0.000000   \n",
       "25%       0.00000     0.000000     0.000000     0.000000     0.000000   \n",
       "50%       0.00000     0.000000     0.000000     0.000000     0.000000   \n",
       "75%       0.00000     0.000000     0.000000     0.000000     0.000000   \n",
       "max     131.00000   199.000000   281.000000   366.000000   517.000000   \n",
       "\n",
       "           3/29/20      3/30/20      3/31/20       4/1/20  \n",
       "count  3253.000000  3253.000000  3253.000000  3253.000000  \n",
       "mean      0.758377     0.915463     1.190593     1.462342  \n",
       "std      12.761340    15.416319    19.397536    23.117943  \n",
       "min       0.000000     0.000000     0.000000     0.000000  \n",
       "25%       0.000000     0.000000     0.000000     0.000000  \n",
       "50%       0.000000     0.000000     0.000000     0.000000  \n",
       "75%       0.000000     0.000000     0.000000     0.000000  \n",
       "max     678.000000   790.000000   932.000000  1139.000000  \n",
       "\n",
       "[8 rows x 76 columns]"
      ]
     },
     "execution_count": 3,
     "metadata": {},
     "output_type": "execute_result"
    }
   ],
   "source": [
    "confirmed_df = pd.read_csv('f.csv',index_col=0)\n",
    "confirmed_df.describe()"
   ]
  },
  {
   "cell_type": "markdown",
   "metadata": {},
   "source": [
    "get dates and death ( assure equal length )"
   ]
  },
  {
   "cell_type": "code",
   "execution_count": 6,
   "metadata": {},
   "outputs": [],
   "source": [
    "# get dates \n",
    "%matplotlib inline\n",
    "dates = list(confirmed_df.iloc[0,11:].keys())  # date\n",
    "dpd =[] # initialise empty string to store sum of deaths\n",
    "for i in range(11,82,1) : # loop to put sum of deaths into a string makes life easier\n",
    "    dpd.append(confirmed_df.iloc[:,i ].sum())"
   ]
  },
  {
   "cell_type": "code",
   "execution_count": 12,
   "metadata": {
    "scrolled": true
   },
   "outputs": [
    {
     "data": {
      "text/plain": [
       "<matplotlib.collections.PathCollection at 0x11e1bcd90>"
      ]
     },
     "execution_count": 12,
     "metadata": {},
     "output_type": "execute_result"
    },
    {
     "data": {
      "image/png": "[encoded data removed]",
      "text/plain": [
       "<Figure size 432x288 with 1 Axes>"
      ]
     },
     "metadata": {
      "needs_background": "light"
     },
     "output_type": "display_data"
    }
   ],
   "source": [
    "# initialise plot\n",
    "scale_factor = 60\n",
    "\n",
    "xmin, xmax = plt.xlim()\n",
    "ymin, ymax = plt.ylim()\n",
    "\n",
    "plt.xlim(xmin * scale_factor, xmax * scale_factor)\n",
    "plt.ylim(ymin * scale_factor, ymax * scale_factor)\n",
    "plt.xlabel('days since 1 feb')\n",
    "plt.ylabel('cases per city in the world')\n",
    "plt.scatter(dates,dpd)"
   ]
  },
  {
   "cell_type": "markdown",
   "metadata": {},
   "source": [
    "### Breaking down the data\n",
    "Let's have some fun shall we ?\n",
    "Also, Applying XGBBoost to apply regression theory"
   ]
  },
  {
   "cell_type": "code",
   "execution_count": 15,
   "metadata": {},
   "outputs": [
    {
     "data": {
      "text/plain": [
       "[<matplotlib.lines.Line2D at 0x12039f5d0>]"
      ]
     },
     "execution_count": 15,
     "metadata": {},
     "output_type": "execute_result"
    },
    {
     "data": {
      "image/png": "[encoded data removed]",
      "text/plain": [
       "<Figure size 432x288 with 1 Axes>"
      ]
     },
     "metadata": {
      "needs_background": "light"
     },
     "output_type": "display_data"
    }
   ],
   "source": [
    "x = np.linspace(-1,10)\n",
    "y = np.sin(x)\n",
    "plt.plot(x,y)"
   ]
  },
  {
   "cell_type": "markdown",
   "metadata": {},
   "source": []
  },
  {
   "cell_type": "code",
   "execution_count": null,
   "metadata": {},
   "outputs": [],
   "source": []
  },
  {
   "cell_type": "code",
   "execution_count": null,
   "metadata": {},
   "outputs": [],
   "source": []
  },
  {
   "cell_type": "code",
   "execution_count": null,
   "metadata": {},
   "outputs": [],
   "source": []
  }
 ],
 "metadata": {
  "kernelspec": {
   "display_name": "Python 3",
   "language": "python",
   "name": "python3"
  },
  "language_info": {
   "codemirror_mode": {
    "name": "ipython",
    "version": 3
   },
   "file_extension": ".py",
   "mimetype": "text/x-python",
   "name": "python",
   "nbconvert_exporter": "python",
   "pygments_lexer": "ipython3",
   "version": "3.7.7"
  }
 },
 "nbformat": 4,
 "nbformat_minor": 4
}
